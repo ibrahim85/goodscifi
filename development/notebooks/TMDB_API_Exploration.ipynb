{
 "cells": [
  {
   "cell_type": "markdown",
   "metadata": {},
   "source": [
    "**Setup**"
   ]
  },
  {
   "cell_type": "code",
   "execution_count": null,
   "metadata": {
    "collapsed": true
   },
   "outputs": [],
   "source": [
    "import tmdbsimple as tmdb"
   ]
  },
  {
   "cell_type": "code",
   "execution_count": 36,
   "metadata": {
    "collapsed": true
   },
   "outputs": [],
   "source": [
    "import os\n",
    "from dotenv import load_dotenv, find_dotenv\n",
    "\n",
    "# Find .env automagically by walking up directories until it's found\n",
    "# Load up the entries as environment variables\n",
    "load_dotenv(find_dotenv())\n",
    "TMDB_API_KEY = os.environ.get(\"TMDB_API_KEY\")"
   ]
  },
  {
   "cell_type": "code",
   "execution_count": null,
   "metadata": {
    "collapsed": true
   },
   "outputs": [],
   "source": [
    "# Set configurations here\n",
    "tmdb.API_KEY = TMDB_API_KEY"
   ]
  },
  {
   "cell_type": "markdown",
   "metadata": {},
   "source": [
    "**Github Example**"
   ]
  },
  {
   "cell_type": "code",
   "execution_count": 37,
   "metadata": {},
   "outputs": [
    {
     "data": {
      "text/plain": [
       "'The Matrix'"
      ]
     },
     "execution_count": 37,
     "metadata": {},
     "output_type": "execute_result"
    }
   ],
   "source": [
    "movie = tmdb.Movies(603)\n",
    "r = movie.info()\n",
    "movie.title"
   ]
  },
  {
   "cell_type": "markdown",
   "metadata": {},
   "source": [
    "**Test API for Required Data**"
   ]
  },
  {
   "cell_type": "code",
   "execution_count": null,
   "metadata": {
    "collapsed": true
   },
   "outputs": [],
   "source": [
    "# 0.Configuration (base url and image size)\n",
    "# 1.Genres\n",
    "# 2.Discover\n",
    "# 3.Image"
   ]
  },
  {
   "cell_type": "code",
   "execution_count": 1,
   "metadata": {
    "collapsed": true
   },
   "outputs": [],
   "source": [
    "import tmdbsimple as tmdb\n",
    "import os\n",
    "from dotenv import load_dotenv, find_dotenv\n",
    "from urllib.error import HTTPError\n",
    "from urllib.request import urlretrieve"
   ]
  },
  {
   "cell_type": "code",
   "execution_count": 38,
   "metadata": {
    "collapsed": true
   },
   "outputs": [],
   "source": [
    "# Find .env automagically by walking up directories until it's found\n",
    "# Load up the entries as environment variables\n",
    "load_dotenv(find_dotenv())\n",
    "TMDB_API_KEY = os.environ.get(\"TMDB_API_KEY\")\n",
    "TMDB_RAW_DATA_PATH = os.environ.get(\"TMDB_RAW_DATA_PATH\")\n",
    "\n",
    "# Set configurations here\n",
    "tmdb.API_KEY = TMDB_API_KEY"
   ]
  },
  {
   "cell_type": "code",
   "execution_count": 3,
   "metadata": {
    "collapsed": true
   },
   "outputs": [],
   "source": [
    "# Get base URL and image size\n",
    "config = tmdb.Configuration()\n",
    "r = config.info()"
   ]
  },
  {
   "cell_type": "code",
   "execution_count": null,
   "metadata": {
    "collapsed": true
   },
   "outputs": [],
   "source": [
    "print(config.images)"
   ]
  },
  {
   "cell_type": "code",
   "execution_count": 4,
   "metadata": {
    "collapsed": true
   },
   "outputs": [],
   "source": [
    "base_url = config.images['secure_base_url']\n",
    "poster_size = config.images['poster_sizes'][4] # get 5th largest size\n",
    "base_image_url = base_url+poster_size"
   ]
  },
  {
   "cell_type": "code",
   "execution_count": null,
   "metadata": {
    "collapsed": true
   },
   "outputs": [],
   "source": [
    "base_image_url"
   ]
  },
  {
   "cell_type": "code",
   "execution_count": null,
   "metadata": {
    "collapsed": true
   },
   "outputs": [],
   "source": [
    "# Get genres\n",
    "genre = tmdb.Genres()\n",
    "genre.URLS['list'] = '/movie/list'\n",
    "r = genre.list()"
   ]
  },
  {
   "cell_type": "code",
   "execution_count": null,
   "metadata": {
    "collapsed": true
   },
   "outputs": [],
   "source": [
    "genre.genres"
   ]
  },
  {
   "cell_type": "code",
   "execution_count": 6,
   "metadata": {
    "collapsed": true
   },
   "outputs": [],
   "source": [
    "def sci_fi_genre_ids(genres):\n",
    "    '''\n",
    "    Args: A list of dictionaries where key[0] is id, key[1] is name of genre\n",
    "    Returns: List of id(s) for science fiction and/or sci if & fantasty genres\n",
    "    '''\n",
    "    return [item['id'] for item in genres if 'sci' in item['name'].lower()]"
   ]
  },
  {
   "cell_type": "code",
   "execution_count": 7,
   "metadata": {},
   "outputs": [
    {
     "name": "stdout",
     "output_type": "stream",
     "text": [
      "{'tv': [10765], 'movie': [878]}\n"
     ]
    }
   ],
   "source": [
    "# Get genre ids for 'science fiction' and 'sci-fi & fantasy'\n",
    "genre = tmdb.Genres()\n",
    "\n",
    "# Need to select tv/movie list, default is movie\n",
    "type_of_shows = ['tv', 'movie']\n",
    "genre_ids_of_sci_fi = {}\n",
    "for t in range(len(type_of_shows)):\n",
    "    genre.URLS['list'] = '/'+type_of_shows[t]+'/list'\n",
    "    r = genre.list() # remove this, look for 'status_code' attribute instead\n",
    "    genre_ids_of_sci_fi[type_of_shows[t]] = sci_fi_genre_ids(genre.genres)\n",
    "    \n",
    "print(genre_ids_of_sci_fi)"
   ]
  },
  {
   "cell_type": "code",
   "execution_count": 8,
   "metadata": {},
   "outputs": [
    {
     "name": "stdout",
     "output_type": "stream",
     "text": [
      "10765\n"
     ]
    }
   ],
   "source": [
    "# Discover list of movies/tv shows based on genre ids\n",
    "with_genres = \",\".join(str(s) for s in genre_ids_of_sci_fi['tv']) # with_genres only accepts strings (sep = ',' , '|')\n",
    "print(with_genres)"
   ]
  },
  {
   "cell_type": "code",
   "execution_count": 9,
   "metadata": {
    "collapsed": true
   },
   "outputs": [],
   "source": [
    "discover = tmdb.Discover()\n",
    "r = discover.tv(page=1, with_genres=with_genres)"
   ]
  },
  {
   "cell_type": "code",
   "execution_count": null,
   "metadata": {
    "collapsed": true
   },
   "outputs": [],
   "source": [
    "print(discover.total_pages, discover.total_results)"
   ]
  },
  {
   "cell_type": "code",
   "execution_count": null,
   "metadata": {
    "collapsed": true
   },
   "outputs": [],
   "source": [
    "base_image_url+discover.results[0]['poster_path']"
   ]
  },
  {
   "cell_type": "code",
   "execution_count": null,
   "metadata": {
    "collapsed": true
   },
   "outputs": [],
   "source": [
    "discover.results[0].keys()"
   ]
  },
  {
   "cell_type": "code",
   "execution_count": 10,
   "metadata": {
    "collapsed": true
   },
   "outputs": [],
   "source": [
    "# do everything in a chunk and then refactor\n",
    "discover = tmdb.Discover()\n",
    "with_genres = \",\".join(str(s) for s in genre_ids_of_sci_fi['tv']) # with_genres only accepts strings (sep = ',' , '|')\n",
    "r = discover.tv(page=1, with_genres=with_genres)\n",
    "total_pages = discover.total_pages\n",
    "total_results = discover.total_results"
   ]
  },
  {
   "cell_type": "code",
   "execution_count": 11,
   "metadata": {},
   "outputs": [
    {
     "name": "stdout",
     "output_type": "stream",
     "text": [
      "98\n"
     ]
    }
   ],
   "source": [
    "print(total_pages)"
   ]
  },
  {
   "cell_type": "code",
   "execution_count": 67,
   "metadata": {
    "collapsed": true
   },
   "outputs": [],
   "source": [
    "def build_poster_url_and_filename(poster_path, title, date, tmdb_id):\n",
    "    '''\n",
    "    Build the full image url and new filename for poster\n",
    "    Args: \n",
    "        poster_path: '/hwih4=283d.jpg' path of poster\n",
    "        title: name of tv show or movie\n",
    "        date: yyyy-mm-dd of first air date (tv) or release date (movie)\n",
    "        tmdb_id: id associated to tv show or movie\n",
    "    Returns: strings poster_url and poster_filename\n",
    "    '''\n",
    "    # Replace spaces in title with '-', convert the rest to strings\n",
    "    fname = [title, date, tmdb_id]\n",
    "    poster_filename = ('_').join([str(w).replace(' ','-') for w in fname])+'.jpg'\n",
    "    poster_url = base_image_url+poster_path\n",
    "    \n",
    "    return poster_url, poster_filename"
   ]
  },
  {
   "cell_type": "code",
   "execution_count": 63,
   "metadata": {
    "collapsed": true
   },
   "outputs": [],
   "source": [
    "def download_image(image_url, local_path):  \n",
    "    # https://stackoverflow.com/a/39594029\n",
    "    try:\n",
    "        urlretrieve(image_url, local_path)\n",
    "    except FileNotFoundError as err:\n",
    "        print(err, image_url, local_path)\n",
    "    except HTTPError as err:\n",
    "        print(err, image_url)"
   ]
  },
  {
   "cell_type": "code",
   "execution_count": 61,
   "metadata": {},
   "outputs": [],
   "source": [
    "def get_tv_movie_results(medium, with_genres, discvr=tmdb.Discover()):\n",
    "    if medium == 'tv':\n",
    "        discvr.tv(page=page, with_genres=with_genres)\n",
    "    else:\n",
    "        discvr.movie(page=page, with_genres=with_genres)\n",
    "        \n",
    "    return discvr"
   ]
  },
  {
   "cell_type": "code",
   "execution_count": null,
   "metadata": {
    "collapsed": true
   },
   "outputs": [],
   "source": [
    "# Download image and replace file name, [name]_[first_air_date]_[tmdb_id].jpg\n",
    "\n",
    "# https://stackoverflow.com/a/39594029\n",
    "try:\n",
    "    urlretrieve(poster_url, poster_filename)\n",
    "except FileNotFoundError as err:\n",
    "    print(err)   # something wrong with local path\n",
    "except HTTPError as err:\n",
    "    print(err)  # something wrong with url"
   ]
  },
  {
   "cell_type": "code",
   "execution_count": 65,
   "metadata": {
    "collapsed": true
   },
   "outputs": [],
   "source": [
    "tv_movie_attr = {'tv':['poster_path', 'name', 'first_air_date', 'id'], \n",
    "                 'movie':['poster_path','title', 'release_date', 'id']}"
   ]
  },
  {
   "cell_type": "code",
   "execution_count": 68,
   "metadata": {},
   "outputs": [
    {
     "name": "stdout",
     "output_type": "stream",
     "text": [
      "********** Completed Page 1**********\n"
     ]
    }
   ],
   "source": [
    "# from urllib.error import HTTPError\n",
    "# from urllib.request import urlretrieve\n",
    "\n",
    "# Loop over each page (get page one again) and then all results on each page\n",
    "total_pages = 1\n",
    "for page in range(1, total_pages+1):\n",
    "    discover = get_tv_movie_results('tv', with_genres, discover)\n",
    "    for item in range(len(discover.results)):\n",
    "        poster_url, poster_filename = build_poster_url_and_filename(\n",
    "            discover.results[item][tv_movie_attr['tv'][0]], # poster_path\n",
    "            discover.results[item][tv_movie_attr['tv'][1]], # name / title\n",
    "            discover.results[item][tv_movie_attr['tv'][2]], # first_air_date / release_date\n",
    "            discover.results[item][tv_movie_attr['tv'][3]]  # id\n",
    "        )\n",
    "        \n",
    "        local_path = TMDB_RAW_DATA_PATH[1:-1]+poster_filename # env var always seems starts+ends with ' char\n",
    "        download_image(poster_url, local_path) # could return t/f and sum them to assert len(discover.results) == sum\n",
    "    \n",
    "    print('**********'+' Completed Page '+str(page)+'**********')"
   ]
  },
  {
   "cell_type": "code",
   "execution_count": null,
   "metadata": {
    "collapsed": true
   },
   "outputs": [],
   "source": [
    "# put everything in 'main' and pass args to file to run tv or movie\n",
    "# something like filename.py -m tv"
   ]
  }
 ],
 "metadata": {
  "kernelspec": {
   "display_name": "Python 3",
   "language": "python",
   "name": "python3"
  },
  "language_info": {
   "codemirror_mode": {
    "name": "ipython",
    "version": 3
   },
   "file_extension": ".py",
   "mimetype": "text/x-python",
   "name": "python",
   "nbconvert_exporter": "python",
   "pygments_lexer": "ipython3",
   "version": "3.6.1"
  }
 },
 "nbformat": 4,
 "nbformat_minor": 2
}
