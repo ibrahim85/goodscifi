{
 "cells": [
  {
   "cell_type": "markdown",
   "metadata": {},
   "source": [
    "**TODO:**\n",
    "\n",
    "- 3-5 CNN models\n",
    "- From simple 1 layer fully connected to transfer learning\n",
    "- May review ensemble\n",
    "- Need to review books vs movies(tvshows) model"
   ]
  },
  {
   "cell_type": "code",
   "execution_count": null,
   "metadata": {
    "collapsed": false
   },
   "outputs": [],
   "source": [
    "import keras\n",
    "from keras.optimizers import SGD, Adam\n",
    "from keras.callbacks import ModelCheckpoint, EarlyStopping\n",
    "from keras.preprocessing.image import ImageDataGenerator"
   ]
  },
  {
   "cell_type": "code",
   "execution_count": null,
   "metadata": {
    "collapsed": true
   },
   "outputs": [],
   "source": [
    "%load_ext autoreload\n",
    "%autoreload 2"
   ]
  },
  {
   "cell_type": "code",
   "execution_count": null,
   "metadata": {
    "collapsed": false
   },
   "outputs": [],
   "source": [
    "from matplotlib import pyplot as plt\n",
    "import time\n",
    "import helper_keras\n",
    "import numpy as np\n",
    "import pandas as pd\n",
    "import os"
   ]
  },
  {
   "cell_type": "markdown",
   "metadata": {},
   "source": [
    "#### Data Paths"
   ]
  },
  {
   "cell_type": "code",
   "execution_count": null,
   "metadata": {
    "collapsed": false
   },
   "outputs": [],
   "source": [
    "notbook_path = '/home/jason/DeepLearning/github/goodscifi/development/notebooks/'\n",
    "home_path = '/home/jason/DeepLearning/github/goodscifi/development/'\n",
    "data_path = '/home/jason/DeepLearning/github/goodscifi/development/data/'\n",
    "model_path = '/home/jason/DeepLearning/github/goodscifi/development/models/'"
   ]
  },
  {
   "cell_type": "code",
   "execution_count": null,
   "metadata": {
    "collapsed": true
   },
   "outputs": [],
   "source": [
    "# Not using 'sample' since I have less than 6k total data\n",
    "training_data = data_path+'dataset/books/train/'\n",
    "validation_data = data_path+'dataset/books/valid/'"
   ]
  },
  {
   "cell_type": "markdown",
   "metadata": {},
   "source": [
    "#### Input Data"
   ]
  },
  {
   "cell_type": "code",
   "execution_count": null,
   "metadata": {
    "collapsed": false
   },
   "outputs": [],
   "source": [
    "train_batches = helper_keras.get_batches(training_data) # update target_size\n",
    "val_batches = helper_keras.get_batches(validation_data)"
   ]
  },
  {
   "cell_type": "code",
   "execution_count": null,
   "metadata": {
    "collapsed": false
   },
   "outputs": [],
   "source": [
    "# Create numpy array of data\n",
    "train_data_array = helper_keras.get_data(training_data)\n",
    "val_data_array = helper_keras.get_data(validation_data)"
   ]
  },
  {
   "cell_type": "code",
   "execution_count": null,
   "metadata": {
    "collapsed": false
   },
   "outputs": [],
   "source": [
    "# Save and use for datagen.fit\n",
    "helper_keras.save_array(data_path+'dataset/books/train_data.bcolz',train_data_array)\n",
    "helper_keras.save_array(data_path+'dataset/books/val_data.bcolz',val_data_array)"
   ]
  },
  {
   "cell_type": "markdown",
   "metadata": {},
   "source": [
    "#### Load Data Array"
   ]
  },
  {
   "cell_type": "code",
   "execution_count": null,
   "metadata": {
    "collapsed": false
   },
   "outputs": [],
   "source": [
    "train_data_array = helper_keras.load_array(data_path+'dataset/books/train_data.bcolz')\n",
    "val_data_array = helper_keras.load_array(data_path+'dataset/books/val_data.bcolz')"
   ]
  },
  {
   "cell_type": "markdown",
   "metadata": {},
   "source": [
    "#### Data Augmentation"
   ]
  },
  {
   "cell_type": "code",
   "execution_count": null,
   "metadata": {
    "collapsed": true
   },
   "outputs": [],
   "source": [
    "data_gen_args = dict(featurewise_center=True,\n",
    "                     featurewise_std_normalization=True)\n",
    "\n",
    "image_datagen = ImageDataGenerator(**data_gen_args)"
   ]
  },
  {
   "cell_type": "code",
   "execution_count": null,
   "metadata": {
    "collapsed": true
   },
   "outputs": [],
   "source": [
    "# Provide the same seed and keyword arguments to the fit and flow methods\n",
    "seed = 1\n",
    "image_datagen.fit(train_data_array, augment=True, seed=seed)"
   ]
  },
  {
   "cell_type": "code",
   "execution_count": null,
   "metadata": {
    "collapsed": true
   },
   "outputs": [],
   "source": [
    "# Use this to standardize images for prediction\n",
    "image_datagen.standardize?"
   ]
  },
  {
   "cell_type": "code",
   "execution_count": null,
   "metadata": {
    "collapsed": false
   },
   "outputs": [],
   "source": [
    "# Get train_batches with datagen augmentation (normalized)\n",
    "# update target_size and batch_size\n",
    "\n",
    "# update 'get_batches' with seed\n",
    "train_batches_aug = helper_keras.get_batches(training_data,\n",
    "                                           gen=image_datagen, \n",
    "                                           batch_size=8,\n",
    "                                           target_size=(150,150)) \n",
    "val_batches_aug = helper_keras.get_batches(validation_data,\n",
    "                                         gen=image_datagen, \n",
    "                                         batch_size=8,\n",
    "                                         target_size=(150,150))"
   ]
  },
  {
   "cell_type": "code",
   "execution_count": null,
   "metadata": {
    "collapsed": false
   },
   "outputs": [],
   "source": [
    "# Set input_shape for all models\n",
    "input_shape = train_batches_aug.image_shape; input_shape"
   ]
  },
  {
   "cell_type": "code",
   "execution_count": null,
   "metadata": {
    "collapsed": false
   },
   "outputs": [],
   "source": [
    "# Set steps per epoch for train & validation data\n",
    "steps_per_epoch = train_batches_aug.samples/train_batches_aug.batch_size\n",
    "val_steps = val_batches_aug.samples/val_batches_aug.batch_size\n",
    "\n",
    "print('steps per epoch:', steps_per_epoch)\n",
    "print('validation steps:', val_steps)"
   ]
  },
  {
   "cell_type": "markdown",
   "metadata": {},
   "source": [
    "#### Fully Connected NN"
   ]
  },
  {
   "cell_type": "code",
   "execution_count": null,
   "metadata": {
    "collapsed": false
   },
   "outputs": [],
   "source": [
    "import nn_dense\n",
    "model = nn_dense.model(input_shape)\n",
    "model.summary()"
   ]
  },
  {
   "cell_type": "markdown",
   "metadata": {},
   "source": [
    "#### Simple CNN"
   ]
  },
  {
   "cell_type": "code",
   "execution_count": null,
   "metadata": {
    "collapsed": false
   },
   "outputs": [],
   "source": [
    "import nn_simple\n",
    "model = nn_simple.model(input_shape)\n",
    "model.summary()"
   ]
  },
  {
   "cell_type": "markdown",
   "metadata": {},
   "source": [
    "#### Deep CNN"
   ]
  },
  {
   "cell_type": "code",
   "execution_count": null,
   "metadata": {
    "collapsed": false
   },
   "outputs": [],
   "source": [
    "import nn_deep\n",
    "model = nn_deep.model(input_shape)\n",
    "model.summary()"
   ]
  },
  {
   "cell_type": "code",
   "execution_count": null,
   "metadata": {
    "collapsed": false
   },
   "outputs": [],
   "source": [
    "import nn_deep_sep_conv\n",
    "model = nn_deep_sep_conv.model(input_shape)\n",
    "model.summary()"
   ]
  },
  {
   "cell_type": "code",
   "execution_count": null,
   "metadata": {
    "collapsed": false
   },
   "outputs": [],
   "source": [
    "import nn_mobilenet\n",
    "# model = nn_mobilenet.model(input_shape=input_shape)\n",
    "# model.summary()"
   ]
  },
  {
   "cell_type": "code",
   "execution_count": null,
   "metadata": {
    "collapsed": true
   },
   "outputs": [],
   "source": [
    "# Test with movies and books\n",
    "# VGG16 pre-trained -> https://github.com/jph00/part2/blob/master/vgg16_avg.py\n",
    "# -- 1. without top and new conv or dense layer for classes\n",
    "# -- 2. without top and trainable layers\n",
    "# MobileNet from scratch -> https://github.com/rcmalli/keras-mobilenet/blob/master/keras_mobilenet/mobilenet.py\n",
    "# -- 1. as is plus fiddle with activation ,learning rate, alpha(width), etc"
   ]
  },
  {
   "cell_type": "markdown",
   "metadata": {},
   "source": [
    "#### Test Model Parameters"
   ]
  },
  {
   "cell_type": "code",
   "execution_count": null,
   "metadata": {
    "collapsed": false
   },
   "outputs": [],
   "source": [
    "# Import the SGD optimizer\n",
    "from keras.optimizers import SGD\n",
    "\n",
    "lr = 0.001\n",
    "alpha = 2\n",
    "model_history = []\n",
    "\n",
    "# Loop over learning rates\n",
    "for alpha in alpha_to_test:\n",
    "    print('\\n\\nTesting model with alpha parameter: %f\\n'%alpha )\n",
    "    \n",
    "    # Build new model to test, unaffected by previous models\n",
    "    model = nn_mobilenet.model(alpha=alpha, input_shape=input_shape)\n",
    "    \n",
    "    # Create SGD optimizer with specified learning rate: my_optimizer\n",
    "    # Use SGD rather than Adam to help narrow down best learning rate to start with\n",
    "    my_optimizer = SGD(lr=lr)\n",
    "    \n",
    "    # Compile the model\n",
    "    model.compile(optimizer=my_optimizer,\n",
    "              loss='categorical_crossentropy',\n",
    "              metrics=['accuracy'])\n",
    "    \n",
    "    # Fit the model\n",
    "    model_history.append(\n",
    "                            model.fit_generator(\n",
    "                                    train_batches_aug, \n",
    "                                    steps_per_epoch=steps_per_epoch,\n",
    "                                    validation_data=val_batches_aug,\n",
    "                                    validation_steps=val_steps,\n",
    "                                    epochs=30,\n",
    "                                    verbose=0)\n",
    "                        )"
   ]
  },
  {
   "cell_type": "markdown",
   "metadata": {},
   "source": [
    "**Run Time**"
   ]
  },
  {
   "cell_type": "code",
   "execution_count": null,
   "metadata": {
    "collapsed": true
   },
   "outputs": [],
   "source": [
    "import nn_mobilenet"
   ]
  },
  {
   "cell_type": "code",
   "execution_count": null,
   "metadata": {
    "collapsed": false
   },
   "outputs": [],
   "source": [
    "# Learning rate at 0.001 with alpha 2, using SGD\n",
    "\n",
    "# Alpha / width\n",
    "alpha = 1\n",
    "\n",
    "# Create model\n",
    "model = nn_mobilenet.model(alpha=alpha, input_shape=input_shape, shallow=False)\n",
    "\n",
    "# Optimizer\n",
    "optimizer = SGD(lr=0.00001)\n",
    "\n",
    "# Compile the model\n",
    "model.compile(optimizer=optimizer,loss='categorical_crossentropy',metrics=['accuracy'])\n",
    "\n",
    "# Checkpoint callback\n",
    "outputFolder = model_path+'nn_mobilenet/'\n",
    "if not os.path.exists(outputFolder):\n",
    "    os.makedirs(outputFolder)\n",
    "filepath=outputFolder+\"weights.best.hdf5\"\n",
    "checkpoint = ModelCheckpoint(filepath, monitor='val_loss', verbose=1,\n",
    "                             save_best_only=True, save_weights_only=True)\n",
    "\n",
    "# Darly stopping callback\n",
    "earlystop = EarlyStopping(monitor='val_loss', patience=5,verbose=1, mode='auto')\n",
    "\n",
    "callbacks_list = [checkpoint, earlystop]\n",
    "\n",
    "\n",
    "# Fit the model\n",
    "start = time.time()\n",
    "print(\"Model started training at\",time.ctime())\n",
    "history =  model.fit_generator(train_batches_aug,\n",
    "                               steps_per_epoch=steps_per_epoch,\n",
    "                               validation_data=val_batches_aug,\n",
    "                               validation_steps=val_steps,\n",
    "                               epochs=50,\n",
    "                               verbose=0,\n",
    "                               callbacks=callbacks_list)\n",
    "end = time.time()\n",
    "print(\"Model took %0.2f seconds to train\"%(end - start))\n",
    "# plot model history\n",
    "helper_keras.plot_model_history(history)"
   ]
  },
  {
   "cell_type": "code",
   "execution_count": null,
   "metadata": {
    "collapsed": false
   },
   "outputs": [],
   "source": [
    "helper_keras.plot_model_history(history) #SGD: lr = 0.0.00001, swallow=True"
   ]
  },
  {
   "cell_type": "code",
   "execution_count": null,
   "metadata": {
    "collapsed": true
   },
   "outputs": [],
   "source": []
  }
 ],
 "metadata": {
  "kernelspec": {
   "display_name": "GCE (goodscifi)",
   "language": "python",
   "name": "goodscifi"
  },
  "language_info": {
   "codemirror_mode": {
    "name": "ipython",
    "version": 3
   },
   "file_extension": ".py",
   "mimetype": "text/x-python",
   "name": "python",
   "nbconvert_exporter": "python",
   "pygments_lexer": "ipython3",
   "version": "3.6.1"
  }
 },
 "nbformat": 4,
 "nbformat_minor": 2
}
